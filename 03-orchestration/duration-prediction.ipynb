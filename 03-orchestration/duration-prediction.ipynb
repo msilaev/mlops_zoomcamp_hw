{
 "cells": [
  {
   "cell_type": "code",
   "execution_count": 10,
   "id": "b2bd82d7",
   "metadata": {},
   "outputs": [
    {
     "name": "stdout",
     "output_type": "stream",
     "text": [
      "Python 3.13.2\n"
     ]
    }
   ],
   "source": [
    "!python -V"
   ]
  },
  {
   "cell_type": "code",
   "execution_count": 11,
   "id": "41062d8a",
   "metadata": {},
   "outputs": [],
   "source": [
    "import pandas as pd"
   ]
  },
  {
   "cell_type": "code",
   "execution_count": 12,
   "id": "c984c564",
   "metadata": {},
   "outputs": [],
   "source": [
    "import pickle"
   ]
  },
  {
   "cell_type": "code",
   "execution_count": 13,
   "id": "b1c9d8ee",
   "metadata": {},
   "outputs": [],
   "source": [
    "import xgboost as xgb"
   ]
  },
  {
   "cell_type": "code",
   "execution_count": 14,
   "id": "4add538c",
   "metadata": {},
   "outputs": [],
   "source": [
    "#import seaborn as sns\n",
    "#import matplotlib.pyplot as plt\n",
    "#import numpy as np"
   ]
  },
  {
   "cell_type": "code",
   "execution_count": 15,
   "id": "8b135c2b",
   "metadata": {},
   "outputs": [],
   "source": [
    "from sklearn.feature_extraction import DictVectorizer\n",
    "#from sklearn.linear_model import LinearRegression\n",
    "#from sklearn.linear_model import Lasso\n",
    "#from sklearn.linear_model import Ridge\n",
    "from sklearn.metrics import root_mean_squared_error"
   ]
  },
  {
   "cell_type": "code",
   "execution_count": 16,
   "id": "90d060b7",
   "metadata": {},
   "outputs": [],
   "source": [
    "import mlflow\n"
   ]
  },
  {
   "cell_type": "code",
   "execution_count": 17,
   "id": "4851563e",
   "metadata": {},
   "outputs": [],
   "source": [
    "mlflow.set_tracking_uri(\"http://localhost:5000\")\n"
   ]
  },
  {
   "cell_type": "code",
   "execution_count": 18,
   "id": "aafd4e36",
   "metadata": {},
   "outputs": [
    {
     "data": {
      "text/plain": [
       "<Experiment: artifact_location='mlflow-artifacts:/989498194840554431', creation_time=1748702153340, experiment_id='989498194840554431', last_update_time=1748702153340, lifecycle_stage='active', name='nyc-taxi-experiment', tags={}>"
      ]
     },
     "execution_count": 18,
     "metadata": {},
     "output_type": "execute_result"
    }
   ],
   "source": [
    "mlflow.set_experiment(\"nyc-taxi-experiment\")"
   ]
  },
  {
   "cell_type": "code",
   "execution_count": 19,
   "id": "12b69222",
   "metadata": {},
   "outputs": [],
   "source": [
    "def read_dataframe(filename):\n",
    "    \n",
    "    df = pd.read_parquet(filename)\n",
    "\n",
    "    df['duration'] = df.lpep_dropoff_datetime - df.lpep_pickup_datetime\n",
    "    df.duration = df.duration.apply(lambda td: td.total_seconds() / 60)\n",
    "\n",
    "    df = df[(df.duration >= 1) & (df.duration <= 60)]\n",
    "\n",
    "    categorical = ['PULocationID', 'DOLocationID']\n",
    "    df[categorical] = df[categorical].astype(str)\n",
    "\n",
    "    df[\"PU_DO\"] = df[\"PULocationID\"] + \"_\" + df[\"DOLocationID\"]\n",
    "    \n",
    "    return df"
   ]
  },
  {
   "cell_type": "code",
   "execution_count": 20,
   "id": "7e13b01e",
   "metadata": {},
   "outputs": [],
   "source": [
    "#import xgboost as xgb\n",
    "#from hyperopt import fmin, tpe, hp, STATUS_OK, Trials\n",
    "#from hyperopt.pyll import scope"
   ]
  },
  {
   "cell_type": "code",
   "execution_count": 21,
   "id": "490e6eb7",
   "metadata": {},
   "outputs": [],
   "source": [
    "#mlflow.set_tracking_uri(\"sqlite:///mlflow1.db\")\n",
    "#mlflow.set_experiment(\"nyc-taxi-experiment_1\")"
   ]
  },
  {
   "cell_type": "code",
   "execution_count": null,
   "id": "86feda2b",
   "metadata": {},
   "outputs": [],
   "source": [
    "df_val = read_dataframe('https://d37ci6vzurychx.cloudfront.net/trip-data/yellow_tripdata_2021-02.parquet')\n",
    "df_train = read_dataframe('https://d37ci6vzurychx.cloudfront.net/trip-data/yellow_tripdata_2021-01.parquet')\n"
   ]
  },
  {
   "cell_type": "code",
   "execution_count": 23,
   "id": "1b68bec2",
   "metadata": {},
   "outputs": [],
   "source": [
    "#df_val = pd.read_parquet('https://d37ci6vzurychx.cloudfront.net/trip-data/green_tripdata_2021-02.parquet')\n",
    "#df_val['duration'] = (df_val['lpep_dropoff_datetime'] - df_val['lpep_pickup_datetime']).dt.total_seconds() / 60\n",
    "#df_val = df_val[(df_val['duration'] >= 1) & (df_val['duration'] <= 60)]"
   ]
  },
  {
   "cell_type": "code",
   "execution_count": 24,
   "id": "8e013caf",
   "metadata": {},
   "outputs": [],
   "source": [
    "#df = pd.read_parquet('./data/green_tripdata_2021-01.parquet')\n",
    "\n",
    "#df = pd.read_parquet('https://d37ci6vzurychx.cloudfront.net/trip-data/green_tripdata_2021-01.parquet')\n",
    "\n",
    "#df['duration'] = df.lpep_dropoff_datetime - df.lpep_pickup_datetime\n",
    "#df.duration = df.duration.apply(lambda td: td.total_seconds() / 60)\n",
    "\n",
    "#df = df[(df.duration >= 1) & (df.duration <= 60)]\n",
    "\n",
    "#df[\"weekday\"] = df.lpep_pickup_datetime.dt.weekday\n",
    "#df[\"hour\"] =  df.lpep_pickup_datetime.dt.hour\n",
    "\n",
    "#categorical = ['PULocationID', 'DOLocationID',  'weekday', 'hour']\n",
    "#numerical = ['trip_distance']\n",
    "\n",
    "#df[categorical] = df[categorical].astype(str)"
   ]
  },
  {
   "cell_type": "code",
   "execution_count": 25,
   "id": "0177a714",
   "metadata": {},
   "outputs": [],
   "source": [
    "categorical = [\"PU_DO\"]\n",
    "numerical = [\"trip_distance\"]"
   ]
  },
  {
   "cell_type": "code",
   "execution_count": 26,
   "id": "7af296a1",
   "metadata": {},
   "outputs": [],
   "source": [
    "dv = DictVectorizer()\n",
    "train_dicts = df_train[categorical + numerical].to_dict(orient='records')\n",
    "X_train = dv.fit_transform(train_dicts)\n",
    "\n",
    "val_dicts = df_val[categorical + numerical].to_dict(orient='records')\n",
    "X_val = dv.transform(val_dicts)"
   ]
  },
  {
   "cell_type": "code",
   "execution_count": 27,
   "id": "0a64ef20",
   "metadata": {},
   "outputs": [],
   "source": [
    "target = 'duration'\n",
    "y_train = df_train[target].values\n",
    "y_val = df_val[target].values"
   ]
  },
  {
   "cell_type": "code",
   "execution_count": 28,
   "id": "ebada4a8",
   "metadata": {},
   "outputs": [],
   "source": [
    "train = xgb.DMatrix(X_train, label=y_train)\n",
    "valid = xgb.DMatrix(X_val, label=y_val)"
   ]
  },
  {
   "cell_type": "code",
   "execution_count": 33,
   "id": "d893d52d",
   "metadata": {},
   "outputs": [],
   "source": [
    "from pathlib import Path\n",
    "model_path = Path(\"models\")\n",
    "model_path.mkdir(exist_ok=True)"
   ]
  },
  {
   "cell_type": "code",
   "execution_count": 34,
   "id": "8bf271c0",
   "metadata": {},
   "outputs": [
    {
     "name": "stderr",
     "output_type": "stream",
     "text": [
      "/opt/conda/envs/myenv/lib/python3.13/site-packages/xgboost/callback.py:386: UserWarning: [15:41:07] WARNING: /workspace/src/objective/regression_obj.cu:250: reg:linear is now deprecated in favor of reg:squarederror.\n",
      "  self.starting_round = model.num_boosted_rounds()\n"
     ]
    },
    {
     "name": "stdout",
     "output_type": "stream",
     "text": [
      "[0]\tvalid-rmse:11.44485\n",
      "[1]\tvalid-rmse:10.77207\n",
      "[2]\tvalid-rmse:10.18367\n",
      "[3]\tvalid-rmse:9.67408\n",
      "[4]\tvalid-rmse:9.23177\n",
      "[5]\tvalid-rmse:8.84820\n",
      "[6]\tvalid-rmse:8.51888\n",
      "[7]\tvalid-rmse:8.23602\n",
      "[8]\tvalid-rmse:7.99331\n",
      "[9]\tvalid-rmse:7.78717\n",
      "[10]\tvalid-rmse:7.61043\n",
      "[11]\tvalid-rmse:7.45941\n",
      "[12]\tvalid-rmse:7.33034\n",
      "[13]\tvalid-rmse:7.22036\n",
      "[14]\tvalid-rmse:7.12731\n",
      "[15]\tvalid-rmse:7.04780\n",
      "[16]\tvalid-rmse:6.97979\n",
      "[17]\tvalid-rmse:6.92262\n",
      "[18]\tvalid-rmse:6.87250\n",
      "[19]\tvalid-rmse:6.82886\n",
      "[20]\tvalid-rmse:6.79104\n",
      "[21]\tvalid-rmse:6.75956\n",
      "[22]\tvalid-rmse:6.73145\n",
      "[23]\tvalid-rmse:6.70684\n",
      "[24]\tvalid-rmse:6.68504\n",
      "[25]\tvalid-rmse:6.66615\n",
      "[26]\tvalid-rmse:6.64891\n",
      "[27]\tvalid-rmse:6.63431\n",
      "[28]\tvalid-rmse:6.62083\n",
      "[29]\tvalid-rmse:6.60913\n"
     ]
    },
    {
     "name": "stderr",
     "output_type": "stream",
     "text": [
      "/opt/conda/envs/myenv/lib/python3.13/site-packages/mlflow/xgboost/__init__.py:168: UserWarning: [15:41:43] WARNING: /workspace/src/c_api/c_api.cc:1427: Saving model in the UBJSON format as default.  You can use file extension: `json`, `ubj` or `deprecated` to choose between formats.\n",
      "  xgb_model.save_model(model_data_path)\n",
      "\u001b[31m2025/05/31 15:41:48 WARNING mlflow.models.model: Model logged without a signature and input example. Please set `input_example` parameter when logging the model to auto infer the model signature.\u001b[0m\n"
     ]
    },
    {
     "name": "stdout",
     "output_type": "stream",
     "text": [
      "🏃 View run fearless-whale-258 at: http://localhost:5000/#/experiments/989498194840554431/runs/56c58a7a78904f7cafeae9b89b52a671\n",
      "🧪 View experiment at: http://localhost:5000/#/experiments/989498194840554431\n"
     ]
    }
   ],
   "source": [
    "with mlflow.start_run():\n",
    "\n",
    "    train = xgb.DMatrix(X_train, label=y_train)\n",
    "    valid = xgb.DMatrix(X_val, label=y_val)\n",
    "\n",
    "    best_params = {\n",
    "        'max_depth': 30,\n",
    "        'learning_rate': 0.09585,\n",
    "        'reg_lambda': 0.011074980286498087,\n",
    "        'reg_alpha': 0.018788520719314586,\n",
    "        'min_child_weight': 1.06,\n",
    "        'objective': 'reg:linear',\n",
    "        'seed': 42\n",
    "    }\n",
    "\n",
    "    mlflow.log_params(best_params)\n",
    "    model = xgb.train(\n",
    "        params=best_params,\n",
    "        dtrain=train,\n",
    "        num_boost_round=30,\n",
    "        evals=[(valid, 'valid')],\n",
    "        early_stopping_rounds=50       \n",
    "    )\n",
    "\n",
    "    y_pred = model.predict(valid)\n",
    "    rmse = root_mean_squared_error(y_val, y_pred)\n",
    "    mlflow.log_metric(\"rmse\", rmse)\n",
    "\n",
    "    with open(\"models/preprocessor.b\", \"wb\") as f_out:\n",
    "        pickle.dump(dv, f_out)\n",
    "    \n",
    "    mlflow.log_artifact(\"models/preprocessor.b\", artifact_path=\"preprocessor\")\n",
    "    mlflow.xgboost.log_model(model, artifact_path=\"models_mlflow\")\n"
   ]
  },
  {
   "cell_type": "code",
   "execution_count": null,
   "id": "b1b9d772",
   "metadata": {},
   "outputs": [],
   "source": []
  },
  {
   "cell_type": "code",
   "execution_count": null,
   "id": "2e818cab",
   "metadata": {},
   "outputs": [],
   "source": []
  }
 ],
 "metadata": {
  "kernelspec": {
   "display_name": "myenv",
   "language": "python",
   "name": "python3"
  },
  "language_info": {
   "codemirror_mode": {
    "name": "ipython",
    "version": 3
   },
   "file_extension": ".py",
   "mimetype": "text/x-python",
   "name": "python",
   "nbconvert_exporter": "python",
   "pygments_lexer": "ipython3",
   "version": "3.13.2"
  }
 },
 "nbformat": 4,
 "nbformat_minor": 5
}
