{
 "cells": [
  {
   "cell_type": "markdown",
   "id": "86b19e8a",
   "metadata": {},
   "source": [
    "## Homework 4"
   ]
  },
  {
   "cell_type": "markdown",
   "id": "fc387aff",
   "metadata": {},
   "source": [
    "### Q1. Notebook\n",
    "We'll start with the same notebook we ended up with in homework 1. We cleaned it a little bit and kept only the scoring part. You can find the initial notebook here.\n",
    "\n",
    "Run this notebook for the March 2023 data.\n",
    "\n",
    "What's the standard deviation of the predicted duration for this dataset?"
   ]
  },
  {
   "cell_type": "code",
   "execution_count": 1,
   "id": "3810890a",
   "metadata": {},
   "outputs": [],
   "source": [
    "import pandas as pd\n",
    "import pickle\n",
    "import seaborn as sns\n",
    "import matplotlib.pyplot as plt"
   ]
  },
  {
   "cell_type": "code",
   "execution_count": 2,
   "id": "18152df9",
   "metadata": {},
   "outputs": [],
   "source": [
    "from sklearn.feature_extraction import DictVectorizer\n",
    "from sklearn.linear_model import LinearRegression\n",
    "from sklearn.linear_model import Lasso\n",
    "from sklearn.linear_model import Ridge\n",
    "\n",
    "from sklearn.metrics import mean_squared_error\n",
    "import numpy as np"
   ]
  },
  {
   "cell_type": "code",
   "execution_count": 3,
   "id": "16e87e07",
   "metadata": {},
   "outputs": [],
   "source": [
    "def read_dataframe(filename):\n",
    "    if filename.endswith('.csv'):\n",
    "        df = pd.read_csv(filename)\n",
    "\n",
    "        df.lpep_dropoff_datetime = pd.to_datetime(df.lpep_dropoff_datetime)\n",
    "        df.lpep_pickup_datetime = pd.to_datetime(df.lpep_pickup_datetime)\n",
    "    elif filename.endswith('.parquet'):\n",
    "        df = pd.read_parquet(filename)\n",
    "\n",
    "    df['duration'] = df.tpep_dropoff_datetime - df.tpep_pickup_datetime\n",
    "    df.duration = df.duration.apply(lambda td: td.total_seconds() / 60)\n",
    "\n",
    "    df = df[(df.duration >= 1) & (df.duration <= 60)]\n",
    "\n",
    "    categorical = ['PULocationID', 'DOLocationID']\n",
    "    df[categorical] = df[categorical].astype(str)\n",
    "    \n",
    "    return df"
   ]
  },
  {
   "cell_type": "code",
   "execution_count": 4,
   "id": "db7b6305",
   "metadata": {},
   "outputs": [],
   "source": [
    "df_train = read_dataframe('https://d37ci6vzurychx.cloudfront.net/trip-data/yellow_tripdata_2023-03.parquet')\n",
    "df_val = read_dataframe('https://d37ci6vzurychx.cloudfront.net/trip-data/yellow_tripdata_2023-04.parquet')"
   ]
  },
  {
   "cell_type": "code",
   "execution_count": 5,
   "id": "267f49be",
   "metadata": {},
   "outputs": [],
   "source": [
    "df_train['PU_DO'] = df_train['PULocationID'] + '_' + df_train['DOLocationID']\n",
    "df_val['PU_DO'] = df_val['PULocationID'] + '_' + df_val['DOLocationID']"
   ]
  },
  {
   "cell_type": "code",
   "execution_count": 6,
   "id": "2450077e",
   "metadata": {},
   "outputs": [],
   "source": [
    "categorical = ['PU_DO'] #'PULocationID', 'DOLocationID']\n",
    "categorical = ['PULocationID', 'DOLocationID']\n",
    "\n",
    "numerical = ['trip_distance']\n",
    "\n",
    "dv = DictVectorizer()\n",
    "\n",
    "train_dicts = df_train[categorical + numerical].to_dict(orient='records')\n",
    "X_train = dv.fit_transform(train_dicts)\n",
    "\n",
    "val_dicts = df_val[categorical + numerical].to_dict(orient='records')\n",
    "X_val = dv.transform(val_dicts)"
   ]
  },
  {
   "cell_type": "code",
   "execution_count": 7,
   "id": "b233604b",
   "metadata": {},
   "outputs": [],
   "source": [
    "file_namme = 'models/dv.bin'\n",
    "with open(file_namme, 'wb') as f_out:\n",
    "    pickle.dump(dv, f_out)"
   ]
  },
  {
   "cell_type": "code",
   "execution_count": 8,
   "id": "b7d47d61",
   "metadata": {},
   "outputs": [],
   "source": [
    "target = 'duration'\n",
    "y_train = df_train[target].values\n",
    "y_val = df_val[target].values"
   ]
  },
  {
   "cell_type": "code",
   "execution_count": 9,
   "id": "b7cf1c12",
   "metadata": {},
   "outputs": [],
   "source": [
    "lr = LinearRegression()\n",
    "lr.fit(X_train, y_train)\n",
    "\n",
    "y_pred = lr.predict(X_train)\n",
    "\n",
    "std = np.std(y_pred)"
   ]
  },
  {
   "cell_type": "code",
   "execution_count": 10,
   "id": "dcbe4595",
   "metadata": {},
   "outputs": [],
   "source": [
    "file_namme = 'models/lr.bin'\n",
    "with open(file_namme, 'wb') as f_out:\n",
    "    pickle.dump(lr, f_out)"
   ]
  },
  {
   "cell_type": "code",
   "execution_count": 11,
   "id": "1fe8d09f",
   "metadata": {},
   "outputs": [
    {
     "name": "stdout",
     "output_type": "stream",
     "text": [
      "Standard deviation 6.770460857201022\n"
     ]
    }
   ],
   "source": [
    "print(f\"Standard deviation {std}\")"
   ]
  },
  {
   "cell_type": "markdown",
   "id": "bb15b199",
   "metadata": {},
   "source": [
    "### Q2. Preparing the output\n",
    "Like in the course videos, we want to prepare the dataframe with the output.\n",
    "\n",
    "First, let's create an artificial ride_id column:"
   ]
  },
  {
   "cell_type": "code",
   "execution_count": 12,
   "id": "a054c293",
   "metadata": {},
   "outputs": [],
   "source": [
    "year = 2023\n",
    "month = 3\n",
    "df_train['ride_id'] = f'{year:04d}/{month:02d}_' + df_train.index.astype('str')"
   ]
  },
  {
   "cell_type": "code",
   "execution_count": 13,
   "id": "92615d5e",
   "metadata": {},
   "outputs": [],
   "source": [
    "\n",
    "# Assuming you have a DataFrame `df` with 'ride_id' and an array/Series `y_pred`\n",
    "df_result = pd.DataFrame({\n",
    "    'ride_id': df_train['ride_id'],\n",
    "    'prediction': y_pred\n",
    "})\n",
    "\n",
    "output_file = 'results.parquet'\n",
    "df_result.to_parquet(\n",
    "    output_file,\n",
    "    engine='pyarrow',\n",
    "    index=False\n",
    ")"
   ]
  },
  {
   "cell_type": "markdown",
   "id": "46e7bcdd",
   "metadata": {},
   "source": [
    "### Q3. Creating the scoring script\n",
    "Now let's turn the notebook into a script.\n",
    "\n",
    "Which command you need to execute for that?"
   ]
  },
  {
   "cell_type": "code",
   "execution_count": 14,
   "id": "48405d8d",
   "metadata": {},
   "outputs": [
    {
     "name": "stderr",
     "output_type": "stream",
     "text": [
      "[NbConvertApp] Converting notebook homework_week_4.ipynb to script\n",
      "[NbConvertApp] Writing 5118 bytes to homework_week_4.py\n"
     ]
    }
   ],
   "source": [
    "!jupyter nbconvert --to script homework_week_4.ipynb"
   ]
  },
  {
   "cell_type": "markdown",
   "id": "383ee655",
   "metadata": {},
   "source": [
    "jupyter nbconvert --to script <notebook-name>.ipynb"
   ]
  },
  {
   "cell_type": "markdown",
   "id": "b57bee15",
   "metadata": {},
   "source": [
    "### Q4. Virtual environmentt"
   ]
  },
  {
   "cell_type": "code",
   "execution_count": 15,
   "id": "add1aafb",
   "metadata": {},
   "outputs": [
    {
     "name": "stdout",
     "output_type": "stream",
     "text": [
      "scikit-learn==1.7.0\n"
     ]
    }
   ],
   "source": [
    "! pip freeze | findstr scikit-learn"
   ]
  },
  {
   "cell_type": "code",
   "execution_count": 16,
   "id": "814d98cc",
   "metadata": {},
   "outputs": [
    {
     "name": "stdout",
     "output_type": "stream",
     "text": [
      "To activate this project's virtualenv, run pipenv shell.\n",
      "Alternatively, run a command inside the virtualenv with pipenv run.\n",
      "Installing scikit-learn==1.7.0...\n",
      "Installation Succeeded\n",
      "To activate this project's virtualenv, run pipenv shell.\n",
      "Alternatively, run a command inside the virtualenv with pipenv run.\n",
      "Installing dependencies from Pipfile.lock (52a7b3)...\n",
      "All dependencies are now up-to-date!\n",
      "Building requirements...\n",
      "[    ] Locking packages...\n",
      "Resolving dependencies...\n",
      "[    ] Locking packages...\n",
      "[    ] Locking packages...\n",
      "[==  ] Locking packages...\n",
      "[=== ] Locking packages...\n",
      "[ ===] Locking packages...\n",
      "[  ==] Locking packages...\n",
      "[   =] Locking packages...\n",
      "[   =] Locking packages...\n",
      "[  ==] Locking packages...\n",
      "[ ===] Locking packages...\n",
      "[====] Locking packages...\n",
      "[=== ] Locking packages...\n",
      "[==  ] Locking packages...\n",
      "[    ] Locking packages...\n",
      "[=   ] Locking packages...\n",
      "[==  ] Locking packages...\n",
      "[=== ] Locking packages...\n",
      "[ ===] Locking packages...\n",
      "[  ==] Locking packages...\n",
      "[   =] Locking packages...\n",
      "[   =] Locking packages...\n",
      "[  ==] Locking packages...\n",
      "[ ===] Locking packages...\n",
      "[====] Locking packages...\n",
      "[=== ] Locking packages...\n",
      "[==  ] Locking packages...\n",
      "[    ] Locking packages...\n",
      "[=   ] Locking packages...\n",
      "[==  ] Locking packages...\n",
      "[=== ] Locking packages...\n",
      "[ ===] Locking packages...\n",
      "[  ==] Locking packages...\n",
      "[    ] Locking packages...\n",
      "[   =] Locking packages...\n",
      "[  ==] Locking packages...\n",
      "[ ===] Locking packages...\n",
      "[====] Locking packages...\n",
      "[=== ] Locking packages...\n",
      "[=   ] Locking packages...\n",
      "[    ] Locking packages...\n",
      "[=   ] Locking packages...\n",
      "[==  ] Locking packages...\n",
      "[=== ] Locking packages...\n",
      "[ ===] Locking packages...\n",
      "[  ==] Locking packages...\n",
      "[    ] Locking packages...\n",
      "[   =] Locking packages...\n",
      "Success!\n",
      "[   =] Locking packages...\n",
      "[   =] Locking packages...\n",
      "\n",
      "Building requirements...\n",
      "[    ] Locking packages...\n",
      "Resolving dependencies...\n",
      "[    ] Locking packages...\n",
      "[=   ] Locking packages...\n",
      "[==  ] Locking packages...\n",
      "[=== ] Locking packages...\n",
      "[ ===] Locking packages...\n",
      "[  ==] Locking packages...\n",
      "[    ] Locking packages...\n",
      "[   =] Locking packages...\n",
      "[  ==] Locking packages...\n",
      "[ ===] Locking packages...\n",
      "[====] Locking packages...\n",
      "[=== ] Locking packages...\n",
      "[=   ] Locking packages...\n",
      "[    ] Locking packages...\n",
      "[=   ] Locking packages...\n",
      "[==  ] Locking packages...\n",
      "[=== ] Locking packages...\n",
      "[ ===] Locking packages...\n",
      "[  ==] Locking packages...\n",
      "[    ] Locking packages...\n",
      "[   =] Locking packages...\n",
      "[  ==] Locking packages...\n",
      "[ ===] Locking packages...\n",
      "[====] Locking packages...\n",
      "[=== ] Locking packages...\n",
      "[==  ] Locking packages...\n",
      "[    ] Locking packages...\n",
      "[=   ] Locking packages...\n",
      "[==  ] Locking packages...\n",
      "[=== ] Locking packages...\n",
      "[ ===] Locking packages...\n",
      "[  ==] Locking packages...\n",
      "[    ] Locking packages...\n",
      "[   =] Locking packages...\n",
      "[  ==] Locking packages...\n",
      "[ ===] Locking packages...\n",
      "[====] Locking packages...\n",
      "[=== ] Locking packages...\n",
      "[==  ] Locking packages...\n",
      "Success!\n",
      "[    ] Locking packages...\n",
      "[    ] Locking packages...\n",
      "\n",
      "Building requirements...\n",
      "[    ] Locking packages...\n",
      "Resolving dependencies...\n",
      "[    ] Locking packages...\n",
      "[=   ] Locking packages...\n",
      "[==  ] Locking packages...\n",
      "[=== ] Locking packages...\n",
      "[ ===] Locking packages...\n",
      "[  ==] Locking packages...\n",
      "[   =] Locking packages...\n",
      "[   =] Locking packages...\n",
      "[  ==] Locking packages...\n",
      "[ ===] Locking packages...\n",
      "[====] Locking packages...\n",
      "[=== ] Locking packages...\n",
      "[==  ] Locking packages...\n",
      "[    ] Locking packages...\n",
      "[=   ] Locking packages...\n",
      "[==  ] Locking packages...\n",
      "[=== ] Locking packages...\n",
      "[ ===] Locking packages...\n",
      "[  ==] Locking packages...\n",
      "[    ] Locking packages...\n",
      "[   =] Locking packages...\n",
      "[  ==] Locking packages...\n",
      "[ ===] Locking packages...\n",
      "[====] Locking packages...\n",
      "[=== ] Locking packages...\n",
      "[==  ] Locking packages...\n",
      "[    ] Locking packages...\n",
      "[=   ] Locking packages...\n",
      "[==  ] Locking packages...\n",
      "[=== ] Locking packages...\n",
      "[ ===] Locking packages...\n",
      "[  ==] Locking packages...\n",
      "[    ] Locking packages...\n",
      "[   =] Locking packages...\n",
      "[  ==] Locking packages...\n",
      "[ ===] Locking packages...\n",
      "[====] Locking packages...\n",
      "[=== ] Locking packages...\n",
      "[=   ] Locking packages...\n",
      "[    ] Locking packages...\n",
      "[=   ] Locking packages...\n",
      "[==  ] Locking packages...\n",
      "[=== ] Locking packages...\n",
      "[ ===] Locking packages...\n",
      "Success!\n",
      "[  ==] Locking packages...\n",
      "[  ==] Locking packages...\n",
      "\n",
      "To activate this project's virtualenv, run pipenv shell.\n",
      "Alternatively, run a command inside the virtualenv with pipenv run.\n",
      "Installing dependencies from Pipfile.lock (52a7b3)...\n",
      "All dependencies are now up-to-date!\n",
      "Installing dependencies from Pipfile.lock (52a7b3)...\n"
     ]
    },
    {
     "name": "stderr",
     "output_type": "stream",
     "text": [
      "Courtesy Notice:\n",
      "Pipenv found itself running within a virtual environment,  so it will \n",
      "automatically use that environment, instead of  creating its own for any \n",
      "project. You can set\n",
      "PIPENV_IGNORE_VIRTUALENVS=1 to force pipenv to ignore that environment and \n",
      "create  its own instead.\n",
      "You can set PIPENV_VERBOSITY=-1 to suppress this warning.\n",
      "Upgrading scikit-learn==1.7.0 in  dependencies.\n"
     ]
    }
   ],
   "source": [
    "! pipenv install scikit-learn==1.7.0"
   ]
  },
  {
   "cell_type": "code",
   "execution_count": 17,
   "id": "5989bd0c",
   "metadata": {},
   "outputs": [
    {
     "name": "stdout",
     "output_type": "stream",
     "text": [
      "The first hash is sha256:014e07a23fe02e65f9392898143c542a50b6001dbe89cb867e19688e468d049b\n"
     ]
    }
   ],
   "source": [
    "print(\"The first hash is sha256:014e07a23fe02e65f9392898143c542a50b6001dbe89cb867e19688e468d049b\")"
   ]
  },
  {
   "cell_type": "markdown",
   "id": "43a3b1a6",
   "metadata": {},
   "source": [
    "### Q5. Parametrize the script\n",
    "Let's now make the script configurable via CLI. We'll create two parameters: year and month.\n",
    "\n",
    "Run the script for April 2023.\n",
    "\n",
    "What's the mean predicted duration?\n",
    "\n"
   ]
  },
  {
   "cell_type": "code",
   "execution_count": 18,
   "id": "686dcfcf",
   "metadata": {},
   "outputs": [],
   "source": [
    "lr = LinearRegression()\n",
    "lr.fit(X_train, y_train)\n",
    "\n",
    "y_pred = lr.predict(X_val)\n",
    "\n",
    "std = np.std(y_pred)\n",
    "mean = np.mean(y_pred)"
   ]
  },
  {
   "cell_type": "code",
   "execution_count": 19,
   "id": "01c0eff1",
   "metadata": {},
   "outputs": [
    {
     "name": "stdout",
     "output_type": "stream",
     "text": [
      "Mean predicted duration 15.084995420295018\n"
     ]
    }
   ],
   "source": [
    "print(f\"Mean predicted duration {mean}\")"
   ]
  },
  {
   "cell_type": "markdown",
   "id": "b199da95",
   "metadata": {},
   "source": [
    "### Q6. Docker container\n",
    "Finally, we'll package the script in the docker container. For that, you'll need to use a base image that we prepared.\n",
    "\n",
    "This is what the content of this image is:\n",
    "\n",
    "FROM python:3.10.13-slim\n",
    "\n",
    "WORKDIR /app\n",
    "COPY [ \"model2.bin\", \"model.bin\" ]\n",
    "Note: you don't need to run it. We have already done it.\n",
    "\n",
    "It is pushed to agrigorev/zoomcamp-model:mlops-2024-3.10.13-slim, which you need to use as your base image.\n",
    "\n",
    "That is, your Dockerfile should start with:\n",
    "\n",
    "FROM agrigorev/zoomcamp-model:mlops-2024-3.10.13-slim\n",
    "\n",
    "This image already has a pickle file with a dictionary vectorizer and a model. You will need to use them.\n",
    "\n",
    "Important: don't copy the model to the docker image. You will need to use the pickle file already in the image.\n",
    "\n",
    "Now run the script with docker. What's the mean predicted duration for May 2023?"
   ]
  },
  {
   "cell_type": "code",
   "execution_count": null,
   "id": "21303fb8",
   "metadata": {},
   "outputs": [],
   "source": []
  }
 ],
 "metadata": {
  "kernelspec": {
   "display_name": ".venv",
   "language": "python",
   "name": "python3"
  },
  "language_info": {
   "codemirror_mode": {
    "name": "ipython",
    "version": 3
   },
   "file_extension": ".py",
   "mimetype": "text/x-python",
   "name": "python",
   "nbconvert_exporter": "python",
   "pygments_lexer": "ipython3",
   "version": "3.11.6"
  }
 },
 "nbformat": 4,
 "nbformat_minor": 5
}
