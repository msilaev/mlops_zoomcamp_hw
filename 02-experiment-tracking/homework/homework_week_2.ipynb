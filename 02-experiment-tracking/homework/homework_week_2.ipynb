{
 "cells": [
  {
   "cell_type": "markdown",
   "id": "e7b22166",
   "metadata": {},
   "source": [
    "## Homework 2"
   ]
  },
  {
   "cell_type": "code",
   "execution_count": 1,
   "id": "aeea747f",
   "metadata": {},
   "outputs": [],
   "source": [
    "import mlflow\n",
    "import pandas as pd\n",
    "import os"
   ]
  },
  {
   "cell_type": "code",
   "execution_count": 2,
   "id": "7e8f390a",
   "metadata": {},
   "outputs": [],
   "source": [
    "TAXI_DATA_FOLDER = \"taxi_data\""
   ]
  },
  {
   "cell_type": "markdown",
   "id": "56bc7cbf",
   "metadata": {},
   "source": [
    "### Q1 mlflow version"
   ]
  },
  {
   "cell_type": "code",
   "execution_count": 3,
   "id": "be0a97e3",
   "metadata": {},
   "outputs": [
    {
     "name": "stdout",
     "output_type": "stream",
     "text": [
      "mlflow, version 2.22.0\n"
     ]
    }
   ],
   "source": [
    "!mlflow --version"
   ]
  },
  {
   "cell_type": "markdown",
   "id": "2d7f634f",
   "metadata": {},
   "source": [
    "### Q2 Downloading data"
   ]
  },
  {
   "cell_type": "code",
   "execution_count": 4,
   "id": "59e73712",
   "metadata": {},
   "outputs": [],
   "source": [
    "def read_dataframe(filename):\n",
    "    if filename.endswith('.csv'):\n",
    "        df = pd.read_csv(filename)\n",
    "\n",
    "        df.lpep_dropoff_datetime = pd.to_datetime(df.lpep_dropoff_datetime)\n",
    "        df.lpep_pickup_datetime = pd.to_datetime(df.lpep_pickup_datetime)\n",
    "    elif filename.endswith('.parquet'):\n",
    "        df = pd.read_parquet(filename)\n",
    "    \n",
    "    return df"
   ]
  },
  {
   "cell_type": "code",
   "execution_count": 5,
   "id": "c20a9e4f",
   "metadata": {},
   "outputs": [],
   "source": [
    "df_train = read_dataframe('https://d37ci6vzurychx.cloudfront.net/trip-data/green_tripdata_2023-01.parquet')\n",
    "df_val = read_dataframe('https://d37ci6vzurychx.cloudfront.net/trip-data/green_tripdata_2023-02.parquet')\n",
    "df_test = read_dataframe('https://d37ci6vzurychx.cloudfront.net/trip-data/green_tripdata_2023-03.parquet')\n",
    "\n",
    "df_train.to_parquet( os.path.join( TAXI_DATA_FOLDER, 'green_tripdata_2023-01.parquet') )\n",
    "df_val.to_parquet( os.path.join( TAXI_DATA_FOLDER, 'green_tripdata_2023-02.parquet') )\n",
    "df_test.to_parquet( os.path.join( TAXI_DATA_FOLDER, 'green_tripdata_2023-03.parquet') )"
   ]
  },
  {
   "cell_type": "code",
   "execution_count": 6,
   "id": "1feed788",
   "metadata": {},
   "outputs": [],
   "source": [
    "!python preprocess_data.py --raw_data_path taxi_data --dest_path ./output"
   ]
  },
  {
   "cell_type": "markdown",
   "id": "b81861d9",
   "metadata": {},
   "source": [
    "How many files are saved to ./output folder?"
   ]
  },
  {
   "cell_type": "code",
   "execution_count": 9,
   "id": "3f8d8084",
   "metadata": {},
   "outputs": [
    {
     "name": "stdout",
     "output_type": "stream",
     "text": [
      "output folder contains 4 files\n"
     ]
    }
   ],
   "source": [
    "print(f\"output folder contains { len( os.listdir('./output') ) } files\")"
   ]
  },
  {
   "cell_type": "markdown",
   "id": "a0cc71da",
   "metadata": {},
   "source": [
    "### Q3 Train a model with autolog"
   ]
  },
  {
   "cell_type": "code",
   "execution_count": 10,
   "id": "0f2e50ee",
   "metadata": {},
   "outputs": [],
   "source": [
    "!python train.py "
   ]
  },
  {
   "cell_type": "markdown",
   "id": "a8764d4e",
   "metadata": {},
   "source": [
    "What is the value of the min_samples_split parameter?"
   ]
  },
  {
   "cell_type": "code",
   "execution_count": 19,
   "id": "2e2999e9",
   "metadata": {},
   "outputs": [
    {
     "name": "stdout",
     "output_type": "stream",
     "text": [
      "min_samples_split = 2\n"
     ]
    }
   ],
   "source": [
    "experiment_id = mlflow.get_experiment_by_name(\"nyc-taxi-experiment_hw2_q3\").experiment_id\n",
    "runs = mlflow.search_runs(experiment_ids=[experiment_id])\n",
    "min_samples_split = runs['params.min_samples_split'].values[0]\n",
    "print(f\"min_samples_split = {min_samples_split}\")"
   ]
  },
  {
   "cell_type": "markdown",
   "id": "25436fad",
   "metadata": {},
   "source": [
    "### Q4  Launch the tracking server locally"
   ]
  },
  {
   "cell_type": "code",
   "execution_count": 25,
   "id": "8c2228a0",
   "metadata": {},
   "outputs": [],
   "source": [
    "mlflow.set_tracking_uri(\"sqlite:///mlflow_hw2.db\")\n",
    "#!mlflow server --backend-store-uri sqlite:///mlflow_hw2.db --default-artifact-root ./artifacts --host 127.0.0.1 --port 5000\n"
   ]
  },
  {
   "cell_type": "code",
   "execution_count": 21,
   "id": "9caec70a",
   "metadata": {},
   "outputs": [],
   "source": [
    "# if accidently remove experiments, restore them\n",
    "#from mlflow.tracking import MlflowClient\n",
    "\n",
    "#mlflow.set_tracking_uri(\"sqlite:///mlflow_hw2.db\")\n",
    "#client = MlflowClient()\n",
    "#deleted_experiments = client.search_experiments(view_type=mlflow.entities.ViewType.DELETED_ONLY)\n",
    "#for experiment in deleted_experiments:\n",
    "#    print(f\"ID: {experiment.experiment_id}, Name: {experiment.name}, Lifecycle Stage: {experiment.lifecycle_stage}\")\n",
    "#    client.restore_experiment(experiment.experiment_id)"
   ]
  },
  {
   "cell_type": "markdown",
   "id": "bdd16489",
   "metadata": {},
   "source": [
    "### Q5. Tune model hyperparameters"
   ]
  },
  {
   "cell_type": "code",
   "execution_count": 26,
   "id": "d1c6f250",
   "metadata": {},
   "outputs": [
    {
     "name": "stdout",
     "output_type": "stream",
     "text": [
      "\n",
      "  0%|          | 0/15 [00:00<?, ?trial/s, best loss=?]\n",
      "  7%|▋         | 1/15 [00:11<02:47, 11.97s/trial, best loss: 5.370086069268862]\n",
      " 13%|█▎        | 2/15 [00:12<01:08,  5.26s/trial, best loss: 5.370086069268862]\n",
      " 20%|██        | 3/15 [00:13<00:38,  3.25s/trial, best loss: 5.370086069268862]\n",
      " 27%|██▋       | 4/15 [00:20<00:53,  4.82s/trial, best loss: 5.357490752366866]\n",
      " 33%|███▎      | 5/15 [00:24<00:44,  4.42s/trial, best loss: 5.357490752366866]\n",
      " 40%|████      | 6/15 [00:36<01:04,  7.17s/trial, best loss: 5.354695072530291]\n",
      " 47%|████▋     | 7/15 [00:49<01:10,  8.86s/trial, best loss: 5.354695072530291]\n",
      " 53%|█████▎    | 8/15 [00:50<00:45,  6.57s/trial, best loss: 5.354695072530291]\n",
      " 60%|██████    | 9/15 [00:58<00:41,  6.91s/trial, best loss: 5.354695072530291]\n",
      " 67%|██████▋   | 10/15 [01:04<00:33,  6.74s/trial, best loss: 5.354695072530291]\n",
      " 73%|███████▎  | 11/15 [01:09<00:24,  6.17s/trial, best loss: 5.335419588556921]\n",
      " 80%|████████  | 12/15 [01:13<00:16,  5.50s/trial, best loss: 5.335419588556921]\n",
      " 87%|████████▋ | 13/15 [01:15<00:08,  4.25s/trial, best loss: 5.335419588556921]\n",
      " 93%|█████████▎| 14/15 [01:19<00:04,  4.34s/trial, best loss: 5.335419588556921]\n",
      "100%|██████████| 15/15 [01:27<00:00,  5.30s/trial, best loss: 5.335419588556921]\n",
      "100%|██████████| 15/15 [01:27<00:00,  5.81s/trial, best loss: 5.335419588556921]\n"
     ]
    }
   ],
   "source": [
    "!python hpo.py"
   ]
  },
  {
   "cell_type": "markdown",
   "id": "33e2f6ef",
   "metadata": {},
   "source": [
    "What's the best validation RMSE that you got?"
   ]
  },
  {
   "cell_type": "code",
   "execution_count": 29,
   "id": "aefb9246",
   "metadata": {},
   "outputs": [
    {
     "name": "stdout",
     "output_type": "stream",
     "text": [
      "Best rmse:  5.335419588556921\n"
     ]
    }
   ],
   "source": [
    "HPO_EXPERIMENT_NAME = \"random-forest-hyperopt\"\n",
    "from mlflow.tracking import MlflowClient\n",
    "client = MlflowClient()\n",
    "\n",
    "# Retrieve the top_n model runs and log the models\n",
    "experiment = client.get_experiment_by_name(HPO_EXPERIMENT_NAME)\n",
    "best_run = client.search_runs(\n",
    "        experiment_ids=experiment.experiment_id,       \n",
    "        max_results=1,\n",
    "        order_by=[\"metrics.rmse ASC\"]\n",
    "    )[0]\n",
    "\n",
    "print(\"Best rmse: \", best_run.data.metrics[\"rmse\"])\n"
   ]
  },
  {
   "cell_type": "markdown",
   "id": "6dd8cf63",
   "metadata": {},
   "source": [
    "### Question 6. Promote the best model to the model registry"
   ]
  },
  {
   "cell_type": "markdown",
   "id": "a6379987",
   "metadata": {},
   "source": [
    "What is the test RMSE of the best model?"
   ]
  },
  {
   "cell_type": "code",
   "execution_count": 35,
   "id": "36699361",
   "metadata": {},
   "outputs": [
    {
     "name": "stdout",
     "output_type": "stream",
     "text": [
      "Best test rmse:  5.567408012462019\n"
     ]
    }
   ],
   "source": [
    "EXPERIMENT_NAME = \"random-forest-best-models\"\n",
    "from mlflow.tracking import MlflowClient\n",
    "client=MlflowClient()\n",
    "\n",
    "experiment = client.get_experiment_by_name(EXPERIMENT_NAME)\n",
    "best_run = client.search_runs( experiment_ids = [experiment.experiment_id], \n",
    "                                   order_by = [\"metrics.test_rmse ASC\"], \n",
    "                                   max_results = 5  )[0]\n",
    "\n",
    "print(\"Best test rmse: \", best_run.data.metrics[\"test_rmse\"])\n"
   ]
  },
  {
   "cell_type": "code",
   "execution_count": 33,
   "id": "b3f3251d",
   "metadata": {},
   "outputs": [
    {
     "name": "stdout",
     "output_type": "stream",
     "text": [
      "🏃 View run unruly-grub-292 at: http://127.0.0.1:5000/#/experiments/2/runs/d4594d2fa64c474993e1e48096cad18b\n",
      "🧪 View experiment at: http://127.0.0.1:5000/#/experiments/2\n",
      "🏃 View run ambitious-shad-270 at: http://127.0.0.1:5000/#/experiments/2/runs/1bf4f17bc3914edd8112cacf52015e7c\n",
      "🧪 View experiment at: http://127.0.0.1:5000/#/experiments/2\n",
      "🏃 View run resilient-hound-142 at: http://127.0.0.1:5000/#/experiments/2/runs/4038926c3817460e96f0d86fe62b23da\n",
      "🧪 View experiment at: http://127.0.0.1:5000/#/experiments/2\n",
      "🏃 View run debonair-robin-458 at: http://127.0.0.1:5000/#/experiments/2/runs/97140c9ef24c44dc95479c501ad5578c\n",
      "🧪 View experiment at: http://127.0.0.1:5000/#/experiments/2\n",
      "🏃 View run welcoming-doe-670 at: http://127.0.0.1:5000/#/experiments/2/runs/3b4a57de880c419b8d4af079f75b7a56\n",
      "🧪 View experiment at: http://127.0.0.1:5000/#/experiments/2\n"
     ]
    },
    {
     "name": "stderr",
     "output_type": "stream",
     "text": [
      "Successfully registered model 'nyc-taxi-random-forest-best-rmse'.\n",
      "2025/05/22 00:56:38 INFO mlflow.store.model_registry.abstract_store: Waiting up to 300 seconds for model version to finish creation. Model name: nyc-taxi-random-forest-best-rmse, version 1\n",
      "Created version '1' of model 'nyc-taxi-random-forest-best-rmse'.\n"
     ]
    }
   ],
   "source": [
    "!python register_model.py"
   ]
  }
 ],
 "metadata": {
  "kernelspec": {
   "display_name": "venv",
   "language": "python",
   "name": "python3"
  },
  "language_info": {
   "codemirror_mode": {
    "name": "ipython",
    "version": 3
   },
   "file_extension": ".py",
   "mimetype": "text/x-python",
   "name": "python",
   "nbconvert_exporter": "python",
   "pygments_lexer": "ipython3",
   "version": "3.11.7"
  }
 },
 "nbformat": 4,
 "nbformat_minor": 5
}
